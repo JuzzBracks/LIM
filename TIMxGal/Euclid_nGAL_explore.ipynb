{
 "cells": [
  {
   "cell_type": "code",
   "execution_count": 1,
   "id": "41fa989f",
   "metadata": {},
   "outputs": [],
   "source": [
    "import numpy as np\n",
    "import utils as ut\n",
    "from matplotlib import pyplot as plt"
   ]
  },
  {
   "cell_type": "markdown",
   "id": "89d0ade4",
   "metadata": {},
   "source": [
    "## Calculate nGal of Euclid widefield at TIM redshifts. \n",
    "\n",
    "Ndz taken from Pozetti 2016 https://arxiv.org/pdf/1603.01453 table 3\n",
    "These values are given in units of 1/(sqDeg * dz)\n",
    "\n",
    "Assuming  0.5 × 10−16 erg cm−2 s−1 for deep field (Private correspondence Kevin McCarthy and Dipa)\n",
    "and 3 × 10−16 erg cm−2 s−1 for wide field (figure 1 caption in Pozetti 2016)"
   ]
  },
  {
   "cell_type": "code",
   "execution_count": 51,
   "id": "d78a6d80",
   "metadata": {},
   "outputs": [
    {
     "name": "stdout",
     "output_type": "stream",
     "text": [
      "[1212.75  1261.92  1582.548 1148.688]\n"
     ]
    },
    {
     "data": {
      "text/plain": [
       "<matplotlib.legend.Legend at 0x127b3eb0c10>"
      ]
     },
     "execution_count": 51,
     "metadata": {},
     "output_type": "execute_result"
    },
    {
     "data": {
      "image/png": "[encoded data removed]",
      "text/plain": [
       "<Figure size 640x480 with 1 Axes>"
      ]
     },
     "metadata": {},
     "output_type": "display_data"
    }
   ],
   "source": [
    "#               Bin1  Bin2  Bin3  Bin4\n",
    "#                 z ~  .6       .9     1.2  1.45\n",
    "Ndzs_Wide =  np.array([2273,   1579,  1136, 652]) * 1/u.deg**2\n",
    "Ndzs_Deep =  np.array([24255, 26290, 23978, 21272]) * 1/u.deg**2\n",
    "zMins =      np.array([0.52,   0.77,  1.01, 1.34])\n",
    "zMaxs =      np.array([0.77,   1.01,  1.34, 1.61])\n",
    "\n",
    "dOmegaDeg = (0.2 *u.deg**2)#assumed TIM on-sky area in sqDeg\n",
    "dOmegaSR = (0.2 *u.deg**2).to(u.sr).value #assumed TIM on-sky area in Steradian\n",
    "\n",
    "NsWide = dOmegaDeg * Ndzs_Wide * (zMaxs - zMins) \n",
    "NsDeep = dOmegaDeg * Ndzs_Deep * (zMaxs - zMins) \n",
    "\n",
    "print(NsDeep)\n",
    "\n",
    "VBins = ut.volume_cube(zMins, zMaxs, dOmegaSR, lilh = True) #NOTE: VOLUMES ARE IN LITTLE h UNITS!!!\n",
    "\n",
    "nGalsWide = NsWide/VBins\n",
    "nGalsDeep = NsDeep/VBins\n",
    "\n",
    "plt.semilogy(zMins, nGalsWide, label = 'EDW')\n",
    "plt.semilogy(zMins, nGalsDeep, label = 'EDFF')\n",
    "\n",
    "plt.legend()"
   ]
  },
  {
   "cell_type": "code",
   "execution_count": 53,
   "id": "34275dab",
   "metadata": {
    "scrolled": true
   },
   "outputs": [
    {
     "data": {
      "text/latex": [
       "$[0.0013486293,~0.00065275131,~0.00037088498,~0.00018514555] \\; \\mathrm{\\frac{sr}{Mpc^{3}}}$"
      ],
      "text/plain": [
       "<Quantity [0.00134863, 0.00065275, 0.00037088, 0.00018515] sr / Mpc3>"
      ]
     },
     "execution_count": 53,
     "metadata": {},
     "output_type": "execute_result"
    }
   ],
   "source": [
    "nGalsWide"
   ]
  },
  {
   "cell_type": "code",
   "execution_count": 54,
   "id": "23dd7277",
   "metadata": {},
   "outputs": [
    {
     "data": {
      "text/latex": [
       "$[0.014391114,~0.010868165,~0.0078284155,~0.0060405154] \\; \\mathrm{\\frac{sr}{Mpc^{3}}}$"
      ],
      "text/plain": [
       "<Quantity [0.01439111, 0.01086816, 0.00782842, 0.00604052] sr / Mpc3>"
      ]
     },
     "execution_count": 54,
     "metadata": {},
     "output_type": "execute_result"
    }
   ],
   "source": [
    "nGalsDeep"
   ]
  },
  {
   "cell_type": "code",
   "execution_count": 6,
   "id": "532a8406",
   "metadata": {},
   "outputs": [],
   "source": [
    "from astropy import constants as const, units as u\n",
    "TwoTeraE = const.h * 80e9 * u.Hz"
   ]
  },
  {
   "cell_type": "code",
   "execution_count": 7,
   "id": "a8179607",
   "metadata": {},
   "outputs": [
    {
     "data": {
      "text/latex": [
       "$0.00033085342 \\; \\mathrm{eV}$"
      ],
      "text/plain": [
       "<Quantity 0.00033085 eV>"
      ]
     },
     "execution_count": 7,
     "metadata": {},
     "output_type": "execute_result"
    }
   ],
   "source": [
    "TwoTeraE.to(u.eV)"
   ]
  },
  {
   "cell_type": "code",
   "execution_count": 13,
   "id": "f98e503a",
   "metadata": {},
   "outputs": [
    {
     "data": {
      "text/latex": [
       "$1000000 \\; \\mathrm{Mpc^{3}}$"
      ],
      "text/plain": [
       "<Quantity 1000000. Mpc3>"
      ]
     },
     "execution_count": 13,
     "metadata": {},
     "output_type": "execute_result"
    }
   ],
   "source": [
    "(0.001*u.Gpc**3).to(u.Mpc**3)"
   ]
  },
  {
   "cell_type": "code",
   "execution_count": 23,
   "id": "aad26ec5",
   "metadata": {},
   "outputs": [
    {
     "data": {
      "text/latex": [
       "$[410.81597,~198.83942,~112.97803,~56.398558] \\; \\mathrm{\\frac{sr}{Gpc^{3}}}$"
      ],
      "text/plain": [
       "<Quantity [410.81596793, 198.83942045, 112.97802507,  56.39855825] sr / Gpc3>"
      ]
     },
     "execution_count": 23,
     "metadata": {},
     "output_type": "execute_result"
    }
   ],
   "source": [
    "nGalsWide.to(u.sr/u.Gpc**3)"
   ]
  },
  {
   "cell_type": "code",
   "execution_count": null,
   "id": "7619f835",
   "metadata": {},
   "outputs": [],
   "source": []
  }
 ],
 "metadata": {
  "kernelspec": {
   "display_name": "Python 3 (ipykernel)",
   "language": "python",
   "name": "python3"
  },
  "language_info": {
   "codemirror_mode": {
    "name": "ipython",
    "version": 3
   },
   "file_extension": ".py",
   "mimetype": "text/x-python",
   "name": "python",
   "nbconvert_exporter": "python",
   "pygments_lexer": "ipython3",
   "version": "3.11.4"
  }
 },
 "nbformat": 4,
 "nbformat_minor": 5
}
