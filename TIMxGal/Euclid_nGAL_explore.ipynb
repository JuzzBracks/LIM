{
 "cells": [
  {
   "cell_type": "code",
   "execution_count": 17,
   "id": "41fa989f",
   "metadata": {},
   "outputs": [],
   "source": [
    "import numpy as np\n",
    "import utils as ut\n",
    "from matplotlib import pyplot as plt"
   ]
  },
  {
   "cell_type": "markdown",
   "id": "89d0ade4",
   "metadata": {},
   "source": [
    "## Calculate nGal of Euclid widefield at TIM redshifts. \n",
    "\n",
    "Ndz taken from Pozetti 2016 https://arxiv.org/pdf/1603.01453 table 3\n",
    "\n",
    "Assuming  0.5 × 10−16 erg cm−2 s−1 for deep field (Private correspondence Kevin McCarthy and Dipa)\n",
    "and 3 × 10−16 erg cm−2 s−1 for wide field (figure 1 caption in Pozetti 2016)"
   ]
  },
  {
   "cell_type": "code",
   "execution_count": 23,
   "id": "d78a6d80",
   "metadata": {},
   "outputs": [
    {
     "data": {
      "text/plain": [
       "<matplotlib.legend.Legend at 0x1c1bd391050>"
      ]
     },
     "execution_count": 23,
     "metadata": {},
     "output_type": "execute_result"
    },
    {
     "data": {
      "image/png": "[encoded data removed]",
      "text/plain": [
       "<Figure size 640x480 with 1 Axes>"
      ]
     },
     "metadata": {},
     "output_type": "display_data"
    }
   ],
   "source": [
    "#               Bin1  Bin2  Bin3  Bin4\n",
    "#                 z ~  .6       .9     1.2  1.45\n",
    "Ndzs_Wide =  np.array([2273,   1579,  1136, 652])\n",
    "Ndzs_Deep =  np.array([24255, 26290, 23978, 21272])\n",
    "zMaxs =      np.array([0.52,   0.77,  1.01, 1.01])\n",
    "zMins =      np.array([0.77,   1.01,  1.34, 1.61])\n",
    "\n",
    "NsWide = Ndzs_Wide * (zMaxs - zMins) \n",
    "NsDeep = Ndzs_Deep * (zMaxs - zMins) \n",
    "\n",
    "dOmega = 0.2 #assumed TIM on-sky area\n",
    "VBins = ut.volume_cube(zMins, zMaxs, dOmega, lilh = True) #NOTE: VOLUMES ARE IN LITTLE h UNITS!!!\n",
    "\n",
    "nGalsWide = NsWide/VBins\n",
    "nGalsDeep = NsDeep/VBins\n",
    "\n",
    "plt.semilogy(zMins, nGalsWide, label = 'EDW')\n",
    "plt.semilogy(zMins, nGalsDeep, label = 'EDFF')\n",
    "\n",
    "plt.legend()"
   ]
  },
  {
   "cell_type": "code",
   "execution_count": 24,
   "id": "34275dab",
   "metadata": {},
   "outputs": [
    {
     "data": {
      "text/latex": [
       "$[2.0540798 \\times 10^{-6},~9.941971 \\times 10^{-7},~5.6489013 \\times 10^{-7},~3.0374917 \\times 10^{-7}] \\; \\mathrm{\\frac{sr}{Mpc^{3}}}$"
      ],
      "text/plain": [
       "<Quantity [2.05407984e-06, 9.94197102e-07, 5.64890125e-07, 3.03749169e-07] sr / Mpc3>"
      ]
     },
     "execution_count": 24,
     "metadata": {},
     "output_type": "execute_result"
    }
   ],
   "source": [
    "nGalsWide"
   ]
  },
  {
   "cell_type": "code",
   "execution_count": 20,
   "id": "23dd7277",
   "metadata": {},
   "outputs": [
    {
     "data": {
      "text/latex": [
       "$[2.1918921 \\times 10^{-5},~1.6553161 \\times 10^{-5},~1.1923359 \\times 10^{-5},~9.9100496 \\times 10^{-6}] \\; \\mathrm{\\frac{sr}{Mpc^{3}}}$"
      ],
      "text/plain": [
       "<Quantity [2.19189206e-05, 1.65531614e-05, 1.19233586e-05, 9.91004958e-06] sr / Mpc3>"
      ]
     },
     "execution_count": 20,
     "metadata": {},
     "output_type": "execute_result"
    }
   ],
   "source": [
    "nGalsDeep"
   ]
  },
  {
   "cell_type": "code",
   "execution_count": 10,
   "id": "532a8406",
   "metadata": {},
   "outputs": [],
   "source": [
    "from astropy import constants as const, units as u\n",
    "TwoTeraE = const.h * 80e9 * u.Hz"
   ]
  },
  {
   "cell_type": "code",
   "execution_count": 11,
   "id": "a8179607",
   "metadata": {},
   "outputs": [
    {
     "data": {
      "text/latex": [
       "$0.00033085342 \\; \\mathrm{eV}$"
      ],
      "text/plain": [
       "<Quantity 0.00033085 eV>"
      ]
     },
     "execution_count": 11,
     "metadata": {},
     "output_type": "execute_result"
    }
   ],
   "source": [
    "TwoTeraE.to(u.eV)"
   ]
  },
  {
   "cell_type": "code",
   "execution_count": null,
   "id": "f98e503a",
   "metadata": {},
   "outputs": [],
   "source": []
  }
 ],
 "metadata": {
  "kernelspec": {
   "display_name": "Python 3 (ipykernel)",
   "language": "python",
   "name": "python3"
  },
  "language_info": {
   "codemirror_mode": {
    "name": "ipython",
    "version": 3
   },
   "file_extension": ".py",
   "mimetype": "text/x-python",
   "name": "python",
   "nbconvert_exporter": "python",
   "pygments_lexer": "ipython3",
   "version": "3.11.4"
  }
 },
 "nbformat": 4,
 "nbformat_minor": 5
}
