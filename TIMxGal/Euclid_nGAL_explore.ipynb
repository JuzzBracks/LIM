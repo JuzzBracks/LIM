{
 "cells": [
  {
   "cell_type": "code",
   "execution_count": 7,
   "id": "41fa989f",
   "metadata": {},
   "outputs": [],
   "source": [
    "import numpy as np\n",
    "import utils as ut\n",
    "from matplotlib import pyplot as plt\n",
    "import astropy.units as u"
   ]
  },
  {
   "cell_type": "markdown",
   "id": "89d0ade4",
   "metadata": {},
   "source": [
    "## Calculate nGal of Euclid fields at TIM redshifts. \n",
    "\n",
    "Ndz taken from Pozetti 2016 https://arxiv.org/pdf/1603.01453 table 3\n",
    "These values are given in units of 1/(sqDeg * dz)\n",
    "\n",
    "Assuming  0.5 × 10−16 erg cm−2 s−1 for deep field (Private correspondence Kevin McCarthy and Dipa)\n",
    "and 3 × 10−16 erg cm−2 s−1 for wide field (figure 1 caption in Pozetti 2016)"
   ]
  },
  {
   "cell_type": "code",
   "execution_count": 15,
   "id": "d78a6d80",
   "metadata": {},
   "outputs": [
    {
     "name": "stdout",
     "output_type": "stream",
     "text": [
      "[6063.75 6309.6  7912.74 5743.44]\n"
     ]
    },
    {
     "data": {
      "text/plain": [
       "<matplotlib.legend.Legend at 0x13488028760>"
      ]
     },
     "execution_count": 15,
     "metadata": {},
     "output_type": "execute_result"
    },
    {
     "data": {
      "image/png": "[encoded data removed]",
      "text/plain": [
       "<Figure size 640x480 with 1 Axes>"
      ]
     },
     "metadata": {},
     "output_type": "display_data"
    }
   ],
   "source": [
    "#               Bin1  Bin2  Bin3  Bin4\n",
    "#                 z ~  .6       .9     1.2  1.45\n",
    "Ndzs_Wide =  np.array([2273,   1579,  1136, 652]) * 1/u.deg**2\n",
    "Ndzs_Deep =  np.array([24255, 26290, 23978, 21272]) * 1/u.deg**2\n",
    "zMins =      np.array([0.52,   0.77,  1.01, 1.34])\n",
    "zMaxs =      np.array([0.77,   1.01,  1.34, 1.61])\n",
    "\n",
    "dOmegaDeg = (1 *u.deg**2)#assumed TIM on-sky area in sqDeg\n",
    "dOmegaSR = (1 *u.deg**2).to(u.sr).value #assumed TIM on-sky area in Steradian\n",
    "\n",
    "NsWide = dOmegaDeg * Ndzs_Wide * (zMaxs - zMins) \n",
    "NsDeep = dOmegaDeg * Ndzs_Deep * (zMaxs - zMins) \n",
    "\n",
    "print(NsDeep)\n",
    "\n",
    "VBins = ut.volume_cube(zMins, zMaxs, dOmegaSR, lilh = True) #NOTE: VOLUMES ARE IN LITTLE h UNITS!!!\n",
    "\n",
    "nGalsWide = NsWide/VBins\n",
    "nGalsDeep = NsDeep/VBins\n",
    "\n",
    "plt.semilogy(zMins, nGalsWide, label = 'EDW')\n",
    "plt.semilogy(zMins, nGalsDeep, label = 'EDFF')\n",
    "\n",
    "plt.legend()"
   ]
  },
  {
   "cell_type": "code",
   "execution_count": 13,
   "id": "34275dab",
   "metadata": {
    "scrolled": true
   },
   "outputs": [
    {
     "data": {
      "text/latex": [
       "$[0.0013486293,~0.00065275131,~0.00037088498,~0.00018514555] \\; \\mathrm{\\frac{sr}{Mpc^{3}}}$"
      ],
      "text/plain": [
       "<Quantity [0.00134863, 0.00065275, 0.00037088, 0.00018515] sr / Mpc3>"
      ]
     },
     "execution_count": 13,
     "metadata": {},
     "output_type": "execute_result"
    }
   ],
   "source": [
    "nGalsWide"
   ]
  },
  {
   "cell_type": "code",
   "execution_count": 14,
   "id": "23dd7277",
   "metadata": {},
   "outputs": [],
   "source": [
    "nGalsDeep1sq = nGalsDeep"
   ]
  },
  {
   "cell_type": "code",
   "execution_count": 16,
   "id": "1e20173c",
   "metadata": {},
   "outputs": [],
   "source": [
    "diff = nGalsDeep - nGalsDeep1sq"
   ]
  },
  {
   "cell_type": "code",
   "execution_count": 17,
   "id": "ed34d1e1",
   "metadata": {},
   "outputs": [
    {
     "data": {
      "text/latex": [
       "$[1.7347235 \\times 10^{-18},~0,~0,~0] \\; \\mathrm{\\frac{sr}{Mpc^{3}}}$"
      ],
      "text/plain": [
       "<Quantity [1.73472348e-18, 0.00000000e+00, 0.00000000e+00, 0.00000000e+00] sr / Mpc3>"
      ]
     },
     "execution_count": 17,
     "metadata": {},
     "output_type": "execute_result"
    }
   ],
   "source": [
    "diff"
   ]
  },
  {
   "cell_type": "code",
   "execution_count": null,
   "id": "932b0853",
   "metadata": {},
   "outputs": [],
   "source": []
  }
 ],
 "metadata": {
  "kernelspec": {
   "display_name": "simim",
   "language": "python",
   "name": "python3"
  },
  "language_info": {
   "codemirror_mode": {
    "name": "ipython",
    "version": 3
   },
   "file_extension": ".py",
   "mimetype": "text/x-python",
   "name": "python",
   "nbconvert_exporter": "python",
   "pygments_lexer": "ipython3",
   "version": "3.9.18"
  }
 },
 "nbformat": 4,
 "nbformat_minor": 5
}
