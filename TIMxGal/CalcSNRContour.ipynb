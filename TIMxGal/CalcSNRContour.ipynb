{
 "cells": [
  {
   "cell_type": "code",
   "execution_count": 2,
   "metadata": {},
   "outputs": [],
   "source": [
    "play = False\n",
    "\n",
    "import numpy as np\n",
    "import matplotlib.pyplot as plt\n",
    "from matplotlib.gridspec import GridSpec\n",
    "import os, sys, camb\n",
    "from camb import model, initialpower\n",
    "from astropy import units as u, constants as c\n",
    "from scipy.interpolate import interp1d\n",
    "from astropy.cosmology import Planck18 as cosmo\n",
    "\n",
    "import utils as ut\n",
    "import props as p\n",
    "import lines as l\n",
    "from importlib import reload\n",
    "reload(ut)\n",
    "reload(p)\n",
    "reload(l)\n",
    "\n",
    "#TIM = p.SpaceTIM\n",
    "TIM = p.TIM\n",
    "#TIM = p.TIM2\n",
    "#GAL = p.AstroDeep\n",
    "GAL = p.Euclid\n",
    "CII = l.CII"
   ]
  },
  {
   "cell_type": "code",
   "execution_count": 3,
   "metadata": {},
   "outputs": [],
   "source": [
    "def quadsum(arr):\n",
    "    return np.sqrt(np.sum(arr[~np.isnan(arr)]**2))\n",
    "\n",
    "def galCross_Variance(ngal, numModes, Px, Pg, Pl, Nl):\n",
    "    crossVar = [(PxG**2 + (NT + PT) * (1/n_gal +Pg)) / (2*nm)\n",
    "        for n_gal, nm, PxG, Pg, PT, NT in zip(ngal, numModes, Px, Pg, Pl, Nl)]\n",
    "    return crossVar"
   ]
  },
  {
   "cell_type": "code",
   "execution_count": 4,
   "metadata": {},
   "outputs": [],
   "source": [
    "H0 = cosmo.H0.value\n",
    "h = cosmo.h\n",
    "\n",
    "sigCoef = np.sqrt(8*np.log(2))\n",
    "lilh = True\n",
    "\n",
    "dlnk = 0.8\n",
    "\n",
    "if play:\n",
    "    dlnk = 1\n",
    "\n",
    "colors = ['purple', 'blue', 'gold', 'red']\n",
    "linestyles = ['-','--',':','-.']\n",
    "\n",
    "# define our bins\n",
    "bins = [\n",
    "    ut.zBin(TIM.SW.zmin, TIM.SW.zcen),\n",
    "    ut.zBin(TIM.SW.zcen, TIM.SW.zmax),\n",
    "    ut.zBin(TIM.LW.zmin, TIM.LW.zcen),\n",
    "    ut.zBin(TIM.LW.zcen, TIM.LW.zmax),\n",
    "]\n",
    "bin_zs = [b.center.value for b in bins]\n",
    "bands = ['SW', 'SW', 'LW', 'LW'] \n",
    "\n",
    "LSbins = [ut.Survey(b, TIM[band].ins, TIM.Daz, TIM.Del, lilh) for b, band in zip(bins, bands)]\n",
    "# LIM survey objects for each bin"
   ]
  },
  {
   "cell_type": "code",
   "execution_count": 5,
   "metadata": {},
   "outputs": [
    {
     "name": "stderr",
     "output_type": "stream",
     "text": [
      "C:\\Users\\juzz\\AppData\\Local\\Temp\\ipykernel_68520\\1290356114.py:13: RuntimeWarning: invalid value encountered in divide\n",
      "  k_props = [np.abs(kxyzs / km) for kxyzs, km in zip(k_xyz_modes, k_mags)]\n"
     ]
    },
    {
     "name": "stdout",
     "output_type": "stream",
     "text": [
      "Note: redshifts have been re-sorted (earliest first)\n"
     ]
    }
   ],
   "source": [
    "k_xyz_modes = [lsb.k_modes() for lsb in LSbins]\n",
    "# k_xyz_modes[N] where N is the survey bin\n",
    "# each element is a 4D array of shape (3, Nkx, Nky, Nkz)\n",
    "\n",
    "# magnitudes of the k vectors\n",
    "k_mags = [np.sqrt(np.sum(kxyzs**2, axis=0)) for kxyzs in k_xyz_modes] \n",
    "\n",
    "# minimum k magnitude in each survey bin\n",
    "k_mins = [np.min(km[km != 0]) for km in k_mags]\n",
    "k_maxs = [np.max(km) for km in k_mags]\n",
    "\n",
    "# unit kx, ky, kz vectors for each mode in each survey bin\n",
    "k_props = [np.abs(kxyzs / km) for kxyzs, km in zip(k_xyz_modes, k_mags)]\n",
    "\n",
    "# num of k bins given our dlnk\n",
    "num_kbins = [round(ut.num_log_steps(k_min, np.max(km), dlnk)) + 1 \\\n",
    "    for k_min, km in zip(k_mins, k_mags)]\n",
    "\n",
    "\n",
    "# resolution elements Sigma_perpendicular (transverse) and sigma_par (LoS)\n",
    "s_perps = [b.transScale(TIM[band].FWHM).value / sigCoef for b, band in zip(bins, bands)]\n",
    "s_pars = [ut.dnu2dr(TIM[band].dnu, b.center).value / sigCoef for b, band in zip(bins, bands)]\n",
    "\n",
    "# outer product of the these three gaussians\n",
    "windows = [np.einsum('i,j,k->ijk', \n",
    "                np.exp(-kxyzs[0][:, 0, 0]**2 * s_perp**2 / 2), \n",
    "                np.exp(-kxyzs[1][0, :, 0]**2 * s_perp**2 / 2), \n",
    "                np.exp(-kxyzs[2][0, 0, :]**2 * s_par**2 / 2)) \n",
    "                for kxyzs, s_perp, s_par in zip(k_xyz_modes, s_perps, s_pars)]\n",
    "\n",
    "# CAMB time, have to remove last redshift because there is a duplication\n",
    "# and CAMB doesn't like that\n",
    "\n",
    "pars = camb.CAMBparams()\n",
    "pars.set_cosmology(H0=H0, ombh2=0.022, omch2=0.122, mnu=0.06, omk=0, tau=0.06)\n",
    "pars.InitPower.set_params(ns=0.965, As=2e-9, r=0)\n",
    "pars.set_for_lmax(2500, lens_potential_accuracy=0)\n",
    "pars.set_matter_power(redshifts=bin_zs[:-1], kmax=np.max(k_maxs) * 3, nonlinear=False) \n",
    "\n",
    "\n",
    "results = camb.get_results(pars)\n",
    "\n",
    "binned_results = [results.get_matter_power_spectrum(minkh=kmin, maxkh=np.max(km), npoints=nkb) \\\n",
    "    for kmin, km, nkb in zip(k_mins, k_mags, num_kbins)]\n",
    "\n",
    "z_idxs = [np.argmin(np.abs(zs - binz)) for (_, zs, _), binz in zip(binned_results, bin_zs)]\n",
    "\n",
    "Pms = [(ks, Pm[z_idx]) for (ks, _, Pm), z_idx in zip(binned_results, z_idxs)]\n",
    "\n",
    "kbin_edges = [np.append([0], np.sqrt(ks * np.append(ks[1:], [np.max(km)])))\n",
    "            for km, (ks, _) in zip(k_mags, Pms)]\n",
    "# get bin edges by selecting the midway between each CAMB k prediction\n",
    "# use geometric mean because bins are log-spaced\n",
    "\n",
    "nModes = []\n",
    "for j, (ks,ws) in enumerate(zip(k_mags, windows)):\n",
    "    kflat = ks.flatten()\n",
    "    wflat = ws.flatten()\n",
    "    kNonZero = kflat[np.nonzero(kflat)[0]]\n",
    "    edges = kbin_edges[j]\n",
    "    \n",
    "    nModeList = []\n",
    "    for i in np.arange(len(edges)-1):\n",
    "        #print(i, len(edges))\n",
    "        if i+1 == len(edges):\n",
    "            wSum = (np.sum(wflat[kflat>edges[i]]))\n",
    "        else:\n",
    "            wSum = (np.sum(wflat[(kflat>edges[i]) & (kflat<=edges[i+1])]))\n",
    "        nModeList.append(wSum/2.) # accounting for double counting.\n",
    "    nModeList = np.asarray(nModeList)\n",
    "    nModes.append(np.asarray(nModeList))\n",
    "\n",
    "window_avgs = [np.array([np.mean(win[np.logical_and(km < kb[i+1], km >= kb[i])]) \n",
    "                for i in range(len(kb)-1)]) \n",
    "        for win, km, kb in zip(windows, k_mags, kbin_edges)]\n",
    "\n",
    "sfrds = [ut.MD_sfrd(z) for z in bin_zs]\n",
    "Iciis = np.array([CII.Inu(sfrd, z).value for sfrd, z in zip(sfrds, bin_zs)])\n",
    "\n",
    "fs = 0.897 #Proportion of Galaxy sample galaxies that are line emitters\n",
    "b_CII = 1.7 # TODO: Get an actual value for this and Bgal\n",
    "b_gal = 1.7 # maintaining b* = b_CII*b_gal = 3\n",
    "Igal = 1\n",
    "bstar = b_CII*b_gal"
   ]
  },
  {
   "cell_type": "markdown",
   "metadata": {},
   "source": [
    "## Make changes in the cell below"
   ]
  },
  {
   "cell_type": "code",
   "execution_count": 18,
   "metadata": {},
   "outputs": [
    {
     "data": {
      "text/plain": [
       "'#now sum each k as it is measured in each bin so we can report the total SNR per k bin.\\nSNR_by_k = np.zeros(len(aligned_SNRs[0]))\\nfor SNRks in aligned_SNRs: SNR_by_k += SNRks**2\\ntotQuadSNR = np.sqrt(np.sum(SNR_by_k))'"
      ]
     },
     "execution_count": 18,
     "metadata": {},
     "output_type": "execute_result"
    }
   ],
   "source": [
    "def quadSNR(SWNEI, LWNEI, numberDensities):\n",
    "    '''\n",
    "    Calculate the quadature sum of SNR(k) for 4 seperate TIM z bins as a function of TIM NEI and galaxy nGal\n",
    "\n",
    "    SWNEI: Average Noise equivalent intensity of the short wavelength array in u.Jy / (u.s ** .5)\n",
    "    LWNEI: Average Noise equivalent intensity of the long wavelength array in u.Jy / (u.s ** .5)\n",
    "    nGal: len 4 arr - Galaxy number density in Mpc**-3 * h**3 per TIM redshift bin in order of lowest to highest z\n",
    "\n",
    "    returns quad_SNRs: len 4 arr quadature sum of SNR(k) for 4 TIM z bins in order of lewst to highest z\n",
    "    '''\n",
    "    TIM.SW.NEI = SWNEI\n",
    "    TIM.SW.NEI = LWNEI\n",
    "    GAL.n_gals = numberDensities\n",
    "\n",
    "    x_shots = fs * Iciis / GAL.n_gals # cross shot for TIMxGal\n",
    "    #where fs is SFRD from the catalogue divided by the corresponding madau dickinson curve point.\n",
    "    PxGs = [(bstar * Icii * Igal * Pm) + x_shot \n",
    "                for Icii, x_shot, (_, Pm) in zip(Iciis, x_shots, Pms)]\n",
    "\n",
    "\n",
    "    TIM_shot = [1.2e9,2.2e9,3e9,3e9] # TODO: Discuss a self consistent way of calculating these values.\n",
    "    P_TIM = [(b_CII**2 * ICII**2 * Pm + shot) for ICII, (_,Pm), shot in zip(Iciis, Pms, TIM_shot)]\n",
    "    N_TIM = [lsb.cell_noise(TIM.time).value for lsb, nm in zip(LSbins, nModes)]\n",
    "    P_gal = [b_gal**2*Pm for (_,Pm), ngal in zip(Pms, GAL.n_gals)]\n",
    "\n",
    "    VARx = galCross_Variance(GAL.n_gals, nModes, PxGs, P_gal, P_TIM, N_TIM)\n",
    "    SNR_PxG = [PxG / np.sqrt(VARs)  for PxG, VARs in zip(PxGs, VARx)]\n",
    "    \n",
    "    #sum the SNRs in each bin in quadrature so that we can report a \"Total SNR per redshift bin\"\n",
    "    quad_SNRs = [np.sqrt(np.sum(SNRs[~np.isnan(SNRs)]**2)) for SNRs in SNR_PxG]\n",
    "\n",
    "    \n",
    "    return quad_SNRs\n",
    "\n",
    "    #CAMB outputs lists of different ks for each bin so we can't sum them 'apples to apples.'\n",
    "    #So, we'll interpolate Cross powers, SNRs and noise values at matching ks across all bins.\n",
    "'''\n",
    "    PxG_Interp = [interp1d(ks, PxG) for (ks, _), PxG in zip(Pms, PxGs)]\n",
    "    SNR_PxG_Interp = [interp1d(ks, SNR) for (ks, _), SNR in zip(Pms, SNR_PxG)]\n",
    "    x_noise_Interp = [interp1d(ks, np.sqrt(VARs)) for (ks, _), VARs in zip(Pms, VARx)]\n",
    "\n",
    "    k4 = Pms[3][0] #isolate the list of k modes in bin 4. We'll use that as our default k list. \n",
    "    aligned_PxGs = [interp(k4) for interp in PxG_Interp] #Interpolate the forecast signals in all bins at the modes in k4.\n",
    "    aligned_SNRs = np.nan_to_num([interp(k4) for interp in SNR_PxG_Interp]) #same for SNRs - nanToNum sets NaNs = 0.\n",
    "    aligned_x_noises = [interp(k4) for interp in x_noise_Interp]#and x_noises.\n",
    "'''\n",
    "\n",
    "'''#now sum each k as it is measured in each bin so we can report the total SNR per k bin.\n",
    "SNR_by_k = np.zeros(len(aligned_SNRs[0]))\n",
    "for SNRks in aligned_SNRs: SNR_by_k += SNRks**2\n",
    "totQuadSNR = np.sqrt(np.sum(SNR_by_k))'''"
   ]
  },
  {
   "cell_type": "code",
   "execution_count": 50,
   "metadata": {},
   "outputs": [],
   "source": [
    "npoints = 50\n",
    "\n",
    "NEIs = np.linspace( 1.191e6, 6.81e7, npoints) * u.Jy / (u.s ** .5)\n",
    "nGals = np.linspace(1e-4, 1e-2, npoints)\n",
    "calcSNRs = np.zeros((npoints,npoints))"
   ]
  },
  {
   "cell_type": "code",
   "execution_count": 51,
   "metadata": {},
   "outputs": [],
   "source": [
    "xv, yv = np.meshgrid(NEIs, nGals)"
   ]
  },
  {
   "cell_type": "code",
   "execution_count": 54,
   "metadata": {},
   "outputs": [
    {
     "data": {
      "text/plain": [
       "(50, 50)"
      ]
     },
     "execution_count": 54,
     "metadata": {},
     "output_type": "execute_result"
    }
   ],
   "source": [
    "np.shape(xv.value)"
   ]
  },
  {
   "cell_type": "code",
   "execution_count": 56,
   "metadata": {},
   "outputs": [],
   "source": [
    "for i, NEI in enumerate(NEIs):\n",
    "    for j, n in enumerate(nGals):\n",
    "        nArray = np.asarray([n,n,n,n])\n",
    "        calcSNRs[i][j] = quadSNR(NEI, NEI, nArray)[0]"
   ]
  },
  {
   "cell_type": "code",
   "execution_count": 65,
   "metadata": {},
   "outputs": [
    {
     "data": {
      "text/plain": [
       "<matplotlib.contour.QuadContourSet at 0x2a260ff48d0>"
      ]
     },
     "execution_count": 65,
     "metadata": {},
     "output_type": "execute_result"
    },
    {
     "data": {
      "image/png": "[encoded data removed]",
      "text/plain": [
       "<Figure size 640x480 with 1 Axes>"
      ]
     },
     "metadata": {},
     "output_type": "display_data"
    }
   ],
   "source": [
    "plt.contourf(xv.value, yv, calcSNRs)"
   ]
  },
  {
   "cell_type": "code",
   "execution_count": 60,
   "metadata": {},
   "outputs": [
    {
     "data": {
      "image/png": "[encoded data removed]",
      "text/plain": [
       "<Figure size 640x480 with 1 Axes>"
      ]
     },
     "metadata": {},
     "output_type": "display_data"
    }
   ],
   "source": [
    "plt.imshow(calcSNRs)\n"
   ]
  },
  {
   "cell_type": "code",
   "execution_count": 46,
   "metadata": {},
   "outputs": [
    {
     "data": {
      "text/plain": [
       "<matplotlib.contour.QuadContourSet at 0x2a25cd96390>"
      ]
     },
     "execution_count": 46,
     "metadata": {},
     "output_type": "execute_result"
    },
    {
     "data": {
      "image/png": "[encoded data removed]",
      "text/plain": [
       "<Figure size 640x480 with 1 Axes>"
      ]
     },
     "metadata": {},
     "output_type": "display_data"
    }
   ],
   "source": [
    "plt.contour(NEIs, nGals, calcSNRs)"
   ]
  },
  {
   "cell_type": "code",
   "execution_count": 33,
   "metadata": {},
   "outputs": [
    {
     "data": {
      "text/plain": [
       "array([[43.22482396, 17.8218743 , 13.23306736, 11.02763173,  9.67304085,\n",
       "         8.73538217,  8.03815942,  7.49430844,  7.05528673,  6.69161805,\n",
       "         6.38423694,  6.12019605,  5.89035517,  5.68805446,  5.50831199,\n",
       "         5.34731733,  5.20210002,  5.07030598,  4.9500425 ,  4.83976832],\n",
       "       [43.22482396, 17.8218743 , 13.23306736, 11.02763173,  9.67304085,\n",
       "         8.73538217,  8.03815942,  7.49430844,  7.05528673,  6.69161805,\n",
       "         6.38423694,  6.12019605,  5.89035517,  5.68805446,  5.50831199,\n",
       "         5.34731733,  5.20210002,  5.07030598,  4.9500425 ,  4.83976832],\n",
       "       [43.22482396, 17.8218743 , 13.23306736, 11.02763173,  9.67304085,\n",
       "         8.73538217,  8.03815942,  7.49430844,  7.05528673,  6.69161805,\n",
       "         6.38423694,  6.12019605,  5.89035517,  5.68805446,  5.50831199,\n",
       "         5.34731733,  5.20210002,  5.07030598,  4.9500425 ,  4.83976832],\n",
       "       [43.22482396, 17.8218743 , 13.23306736, 11.02763173,  9.67304085,\n",
       "         8.73538217,  8.03815942,  7.49430844,  7.05528673,  6.69161805,\n",
       "         6.38423694,  6.12019605,  5.89035517,  5.68805446,  5.50831199,\n",
       "         5.34731733,  5.20210002,  5.07030598,  4.9500425 ,  4.83976832],\n",
       "       [43.22482396, 17.8218743 , 13.23306736, 11.02763173,  9.67304085,\n",
       "         8.73538217,  8.03815942,  7.49430844,  7.05528673,  6.69161805,\n",
       "         6.38423694,  6.12019605,  5.89035517,  5.68805446,  5.50831199,\n",
       "         5.34731733,  5.20210002,  5.07030598,  4.9500425 ,  4.83976832],\n",
       "       [43.22482396, 17.8218743 , 13.23306736, 11.02763173,  9.67304085,\n",
       "         8.73538217,  8.03815942,  7.49430844,  7.05528673,  6.69161805,\n",
       "         6.38423694,  6.12019605,  5.89035517,  5.68805446,  5.50831199,\n",
       "         5.34731733,  5.20210002,  5.07030598,  4.9500425 ,  4.83976832],\n",
       "       [43.22482396, 17.8218743 , 13.23306736, 11.02763173,  9.67304085,\n",
       "         8.73538217,  8.03815942,  7.49430844,  7.05528673,  6.69161805,\n",
       "         6.38423694,  6.12019605,  5.89035517,  5.68805446,  5.50831199,\n",
       "         5.34731733,  5.20210002,  5.07030598,  4.9500425 ,  4.83976832],\n",
       "       [43.22482396, 17.8218743 , 13.23306736, 11.02763173,  9.67304085,\n",
       "         8.73538217,  8.03815942,  7.49430844,  7.05528673,  6.69161805,\n",
       "         6.38423694,  6.12019605,  5.89035517,  5.68805446,  5.50831199,\n",
       "         5.34731733,  5.20210002,  5.07030598,  4.9500425 ,  4.83976832],\n",
       "       [43.22482396, 17.8218743 , 13.23306736, 11.02763173,  9.67304085,\n",
       "         8.73538217,  8.03815942,  7.49430844,  7.05528673,  6.69161805,\n",
       "         6.38423694,  6.12019605,  5.89035517,  5.68805446,  5.50831199,\n",
       "         5.34731733,  5.20210002,  5.07030598,  4.9500425 ,  4.83976832],\n",
       "       [43.22482396, 17.8218743 , 13.23306736, 11.02763173,  9.67304085,\n",
       "         8.73538217,  8.03815942,  7.49430844,  7.05528673,  6.69161805,\n",
       "         6.38423694,  6.12019605,  5.89035517,  5.68805446,  5.50831199,\n",
       "         5.34731733,  5.20210002,  5.07030598,  4.9500425 ,  4.83976832],\n",
       "       [43.22482396, 17.8218743 , 13.23306736, 11.02763173,  9.67304085,\n",
       "         8.73538217,  8.03815942,  7.49430844,  7.05528673,  6.69161805,\n",
       "         6.38423694,  6.12019605,  5.89035517,  5.68805446,  5.50831199,\n",
       "         5.34731733,  5.20210002,  5.07030598,  4.9500425 ,  4.83976832],\n",
       "       [43.22482396, 17.8218743 , 13.23306736, 11.02763173,  9.67304085,\n",
       "         8.73538217,  8.03815942,  7.49430844,  7.05528673,  6.69161805,\n",
       "         6.38423694,  6.12019605,  5.89035517,  5.68805446,  5.50831199,\n",
       "         5.34731733,  5.20210002,  5.07030598,  4.9500425 ,  4.83976832],\n",
       "       [43.22482396, 17.8218743 , 13.23306736, 11.02763173,  9.67304085,\n",
       "         8.73538217,  8.03815942,  7.49430844,  7.05528673,  6.69161805,\n",
       "         6.38423694,  6.12019605,  5.89035517,  5.68805446,  5.50831199,\n",
       "         5.34731733,  5.20210002,  5.07030598,  4.9500425 ,  4.83976832],\n",
       "       [43.22482396, 17.8218743 , 13.23306736, 11.02763173,  9.67304085,\n",
       "         8.73538217,  8.03815942,  7.49430844,  7.05528673,  6.69161805,\n",
       "         6.38423694,  6.12019605,  5.89035517,  5.68805446,  5.50831199,\n",
       "         5.34731733,  5.20210002,  5.07030598,  4.9500425 ,  4.83976832],\n",
       "       [43.22482396, 17.8218743 , 13.23306736, 11.02763173,  9.67304085,\n",
       "         8.73538217,  8.03815942,  7.49430844,  7.05528673,  6.69161805,\n",
       "         6.38423694,  6.12019605,  5.89035517,  5.68805446,  5.50831199,\n",
       "         5.34731733,  5.20210002,  5.07030598,  4.9500425 ,  4.83976832],\n",
       "       [43.22482396, 17.8218743 , 13.23306736, 11.02763173,  9.67304085,\n",
       "         8.73538217,  8.03815942,  7.49430844,  7.05528673,  6.69161805,\n",
       "         6.38423694,  6.12019605,  5.89035517,  5.68805446,  5.50831199,\n",
       "         5.34731733,  5.20210002,  5.07030598,  4.9500425 ,  4.83976832],\n",
       "       [43.22482396, 17.8218743 , 13.23306736, 11.02763173,  9.67304085,\n",
       "         8.73538217,  8.03815942,  7.49430844,  7.05528673,  6.69161805,\n",
       "         6.38423694,  6.12019605,  5.89035517,  5.68805446,  5.50831199,\n",
       "         5.34731733,  5.20210002,  5.07030598,  4.9500425 ,  4.83976832],\n",
       "       [43.22482396, 17.8218743 , 13.23306736, 11.02763173,  9.67304085,\n",
       "         8.73538217,  8.03815942,  7.49430844,  7.05528673,  6.69161805,\n",
       "         6.38423694,  6.12019605,  5.89035517,  5.68805446,  5.50831199,\n",
       "         5.34731733,  5.20210002,  5.07030598,  4.9500425 ,  4.83976832],\n",
       "       [43.22482396, 17.8218743 , 13.23306736, 11.02763173,  9.67304085,\n",
       "         8.73538217,  8.03815942,  7.49430844,  7.05528673,  6.69161805,\n",
       "         6.38423694,  6.12019605,  5.89035517,  5.68805446,  5.50831199,\n",
       "         5.34731733,  5.20210002,  5.07030598,  4.9500425 ,  4.83976832],\n",
       "       [43.22482396, 17.8218743 , 13.23306736, 11.02763173,  9.67304085,\n",
       "         8.73538217,  8.03815942,  7.49430844,  7.05528673,  6.69161805,\n",
       "         6.38423694,  6.12019605,  5.89035517,  5.68805446,  5.50831199,\n",
       "         5.34731733,  5.20210002,  5.07030598,  4.9500425 ,  4.83976832]])"
      ]
     },
     "execution_count": 33,
     "metadata": {},
     "output_type": "execute_result"
    }
   ],
   "source": [
    "calcSNRs"
   ]
  },
  {
   "cell_type": "code",
   "execution_count": 20,
   "metadata": {},
   "outputs": [],
   "source": [
    "nGalList = np.logspace(-5, -2, 50)\n",
    "SNRx_as_nGal = np.zeros(len(nGalList))\n",
    "\n",
    "for i,n in enumerate(nGalList):\n",
    "    x_shot = fs * Iciis[2] / n # cross shot for TIMxGal\n",
    "    Pcross = (bstar * Iciis[2] * Igal * Pms[2][1]) + x_shots[2]\n",
    "    \n",
    "    VARxTIM = (Pcross**2 + (N_TIM[2] + P_TIM[2]) * (1/n +P_gal[2])) / (2*nModes[2])\n",
    "    \n",
    "    SNRx_as_nGal[i] = quadsum(Pcross / np.sqrt(VARxTIM))"
   ]
  },
  {
   "cell_type": "code",
   "execution_count": 22,
   "metadata": {},
   "outputs": [
    {
     "data": {
      "text/plain": [
       "[4.1738935189346495, 3.5692162416809086, 5.965722950868964, 5.121272514248967]"
      ]
     },
     "execution_count": 22,
     "metadata": {},
     "output_type": "execute_result"
    }
   ],
   "source": [
    "quad_SNRs"
   ]
  }
 ],
 "metadata": {
  "kernelspec": {
   "display_name": "Python 3 (ipykernel)",
   "language": "python",
   "name": "python3"
  },
  "language_info": {
   "codemirror_mode": {
    "name": "ipython",
    "version": 3
   },
   "file_extension": ".py",
   "mimetype": "text/x-python",
   "name": "python",
   "nbconvert_exporter": "python",
   "pygments_lexer": "ipython3",
   "version": "3.11.4"
  }
 },
 "nbformat": 4,
 "nbformat_minor": 2
}
