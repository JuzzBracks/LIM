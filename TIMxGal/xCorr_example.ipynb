{
 "cells": [
  {
   "cell_type": "markdown",
   "id": "6fcab435",
   "metadata": {},
   "source": [
    "This notebook is used to forecast the capabilities of the Terahertz Intensity Mapper in cross correlation with the Euclid space telescope's deep fields. The primary goal here is to quantify TIM'xEDFF's ability to detect the CII line intensity fluctuation as a function of scale (k). Relevant utilities and survey properties are imported from the utils.py and props.py files respectively. The notebook calculates power spectra, noise, and signal-to-noise ratios (SNR) for different survey configurations and visualizes these results. It also compares theoretical models and instrument designs, helping to evaluate and optimize the scientific potential of TIM for probing cosmic star formation and large-scale structure."
   ]
  },
  {
   "cell_type": "code",
   "execution_count": 1,
   "id": "ac365c5e",
   "metadata": {},
   "outputs": [
    {
     "ename": "ModuleNotFoundError",
     "evalue": "No module named 'obj'",
     "output_type": "error",
     "traceback": [
      "\u001b[1;31m---------------------------------------------------------------------------\u001b[0m",
      "\u001b[1;31mModuleNotFoundError\u001b[0m                       Traceback (most recent call last)",
      "Cell \u001b[1;32mIn[1], line 7\u001b[0m\n\u001b[0;32m      4\u001b[0m \u001b[38;5;28;01mfrom\u001b[39;00m \u001b[38;5;21;01mastropy\u001b[39;00m \u001b[38;5;28;01mimport\u001b[39;00m units \u001b[38;5;28;01mas\u001b[39;00m u, constants \u001b[38;5;28;01mas\u001b[39;00m c\n\u001b[0;32m      5\u001b[0m \u001b[38;5;28;01mfrom\u001b[39;00m \u001b[38;5;21;01mastropy\u001b[39;00m\u001b[38;5;21;01m.\u001b[39;00m\u001b[38;5;21;01mcosmology\u001b[39;00m \u001b[38;5;28;01mimport\u001b[39;00m Planck18 \u001b[38;5;28;01mas\u001b[39;00m cosmo\n\u001b[1;32m----> 7\u001b[0m \u001b[38;5;28;01mimport\u001b[39;00m \u001b[38;5;21;01mutils2\u001b[39;00m \u001b[38;5;28;01mas\u001b[39;00m \u001b[38;5;21;01mut\u001b[39;00m\n\u001b[0;32m      8\u001b[0m \u001b[38;5;28;01mfrom\u001b[39;00m \u001b[38;5;21;01mbracks2026_props\u001b[39;00m \u001b[38;5;28;01mimport\u001b[39;00m props2 \u001b[38;5;28;01mas\u001b[39;00m p\n\u001b[0;32m      9\u001b[0m \u001b[38;5;28;01mfrom\u001b[39;00m \u001b[38;5;21;01mbracks2026_props\u001b[39;00m \u001b[38;5;28;01mimport\u001b[39;00m EuclidProps \u001b[38;5;28;01mas\u001b[39;00m Eu\n",
      "File \u001b[1;32mc:\\Users\\juzz\\Desktop\\TIM\\LIMxJuzz\\LIM\\TIMxGal\\utils2.py:8\u001b[0m\n\u001b[0;32m      6\u001b[0m \u001b[38;5;28;01mimport\u001b[39;00m \u001b[38;5;21;01mnumpy\u001b[39;00m \u001b[38;5;28;01mas\u001b[39;00m \u001b[38;5;21;01mnp\u001b[39;00m\n\u001b[0;32m      7\u001b[0m \u001b[38;5;28;01mimport\u001b[39;00m \u001b[38;5;21;01mscipy\u001b[39;00m\n\u001b[1;32m----> 8\u001b[0m \u001b[38;5;28;01mfrom\u001b[39;00m \u001b[38;5;21;01mE_lines\u001b[39;00m \u001b[38;5;28;01mimport\u001b[39;00m CII\n\u001b[0;32m      9\u001b[0m \u001b[38;5;28;01mfrom\u001b[39;00m \u001b[38;5;21;01mastropy\u001b[39;00m\u001b[38;5;21;01m.\u001b[39;00m\u001b[38;5;21;01mcosmology\u001b[39;00m \u001b[38;5;28;01mimport\u001b[39;00m Planck18 \u001b[38;5;28;01mas\u001b[39;00m cosmo\n\u001b[0;32m     10\u001b[0m \u001b[38;5;28;01mfrom\u001b[39;00m \u001b[38;5;21;01mastropy\u001b[39;00m \u001b[38;5;28;01mimport\u001b[39;00m constants \u001b[38;5;28;01mas\u001b[39;00m c, units \u001b[38;5;28;01mas\u001b[39;00m u\n",
      "File \u001b[1;32mc:\\Users\\juzz\\Desktop\\TIM\\LIMxJuzz\\LIM\\TIMxGal\\E_lines.py:12\u001b[0m\n\u001b[0;32m      1\u001b[0m \u001b[38;5;66;03m# BSD 3-Clause License\u001b[39;00m\n\u001b[0;32m      2\u001b[0m \u001b[38;5;66;03m# \u001b[39;00m\n\u001b[0;32m      3\u001b[0m \u001b[38;5;66;03m# Copyright (c) 2024 Shubh Agrawal Justin Bracks\u001b[39;00m\n\u001b[1;32m   (...)\u001b[0m\n\u001b[0;32m      7\u001b[0m \n\u001b[0;32m      8\u001b[0m \u001b[38;5;66;03m# Paper References:\u001b[39;00m\n\u001b[0;32m     11\u001b[0m \u001b[38;5;28;01mfrom\u001b[39;00m \u001b[38;5;21;01mastropy\u001b[39;00m \u001b[38;5;28;01mimport\u001b[39;00m units \u001b[38;5;28;01mas\u001b[39;00m u, constants \u001b[38;5;28;01mas\u001b[39;00m c\n\u001b[1;32m---> 12\u001b[0m \u001b[38;5;28;01mfrom\u001b[39;00m \u001b[38;5;21;01mobj\u001b[39;00m \u001b[38;5;28;01mimport\u001b[39;00m AttrDict\n\u001b[0;32m     13\u001b[0m \u001b[38;5;28;01mimport\u001b[39;00m \u001b[38;5;21;01mnumpy\u001b[39;00m \u001b[38;5;28;01mas\u001b[39;00m \u001b[38;5;21;01mnp\u001b[39;00m\n\u001b[0;32m     15\u001b[0m CII \u001b[38;5;241m=\u001b[39m AttrDict()\n",
      "\u001b[1;31mModuleNotFoundError\u001b[0m: No module named 'obj'"
     ]
    }
   ],
   "source": [
    "import numpy as np\n",
    "import matplotlib.pyplot as plt\n",
    "import os\n",
    "from astropy import units as u, constants as c\n",
    "from astropy.cosmology import Planck18 as cosmo\n",
    "\n",
    "import utils2 as ut\n",
    "from bracks2026_props import props2 as p\n",
    "from bracks2026_props import EuclidProps as Eu\n",
    "import E_lines as l\n",
    "from importlib import reload\n",
    "reload(ut)\n",
    "reload(p)\n",
    "reload(l)\n",
    "reload(Eu)"
   ]
  },
  {
   "cell_type": "code",
   "execution_count": null,
   "id": "533ac225",
   "metadata": {},
   "outputs": [],
   "source": [
    "colors = ['purple', 'blue', 'gold', 'red']\n",
    "linestyles = ['-','--',':','-.']"
   ]
  },
  {
   "cell_type": "code",
   "execution_count": null,
   "id": "ccbb491a",
   "metadata": {},
   "outputs": [],
   "source": [
    "VanillaTIM = p.subSurveys\n",
    "print('Redshift bins:', [(np.around(subSurvey.zBin.zFront.value, 2), np.around(subSurvey.zBin.zBack.value, 2))\n",
    "                                for subSurvey in VanillaTIM])\n",
    "print('Redshift bin anglular resolutions:', [(subSurvey.zBin.dOmega.to(u.sr).value) \n",
    "                                for subSurvey in VanillaTIM])\n",
    "print('Noise per Voxel:', [subSurvey.cell_noise()for subSurvey in VanillaTIM])"
   ]
  },
  {
   "cell_type": "code",
   "execution_count": null,
   "id": "ed342ee1",
   "metadata": {},
   "outputs": [],
   "source": [
    "EuMinimal = Eu.subSurveys #\n",
    "TIMxEu = [ut.LIMxGAL(TIMBin, EuBin, window = \"Padmanabhan2023\") for TIMBin, EuBin in zip(VanillaTIM, EuMinimal)]"
   ]
  },
  {
   "cell_type": "code",
   "execution_count": null,
   "id": "31cd7167",
   "metadata": {},
   "outputs": [],
   "source": [
    "plt.figure()\n",
    "transCoefs = [TIMBin.setup_transfer_function(auto=False) for TIMBin in TIMxEu]\n",
    "plt.imshow(np.fft.fftshift(transCoefs[0][:, :, 0]).T ** 2)\n",
    "plt.colorbar()\n",
    "plt.show()\n",
    "plt.close()"
   ]
  },
  {
   "cell_type": "code",
   "execution_count": null,
   "id": "936ed727",
   "metadata": {},
   "outputs": [],
   "source": [
    "transCoefs"
   ]
  },
  {
   "cell_type": "code",
   "execution_count": null,
   "id": "06776aba",
   "metadata": {},
   "outputs": [],
   "source": [
    "k_mags, num_kbins = [TIMBin.setup_k_modes()[0] for TIMBin in TIMxEu], [TIMBin.setup_k_modes()[1] for TIMBin in TIMxEu]\n",
    "k_maxs = [np.max(k_mag.value) for k_mag in k_mags]\n",
    "k_mins = [np.min(k_mag[k_mag != 0].value) for k_mag in k_mags]\n",
    "zShifts = [TIMBin.LIM.zBin.zCenter.value for TIMBin in TIMxEu]\n",
    "\n",
    "print('k maxs:', k_maxs)\n",
    "print('k mins:', k_mins)\n",
    "print('z shifts:', zShifts)"
   ]
  },
  {
   "cell_type": "code",
   "execution_count": null,
   "id": "cf3cc436",
   "metadata": {},
   "outputs": [],
   "source": [
    "Pms = ut.CAMB_Pm_multi(k_mags, k_maxs, k_mins, num_kbins, zShifts )\n",
    "\n",
    "#plot the matter power spectrum calculated by CAMB for each TIMxEuclid sub-survey.\n",
    "[plt.loglog(ks,Pm) for (ks, Pm) in Pms]\n",
    "plt.grid()\n",
    "plt.xlabel(r'$k \\ [h/\\mathrm{Mpc}]$')\n",
    "plt.ylabel(r'$P(k)_M \\ [Units?]$')"
   ]
  },
  {
   "cell_type": "code",
   "execution_count": null,
   "id": "72de27e4",
   "metadata": {},
   "outputs": [],
   "source": [
    "kbin_edges_list, nEffs_list, transferAves_list = ut.nEffs_multi(TIMxEu, Pms)"
   ]
  },
  {
   "cell_type": "code",
   "execution_count": null,
   "id": "78128b6c",
   "metadata": {},
   "outputs": [],
   "source": [
    "plt.figure(dpi = 200, figsize = (8,3))\n",
    "[plt.loglog(Pms[i][0], nEffs_list[i], label = f'Bin {i+1}', color = colors[i], ls = linestyles[i], marker = 'x') \n",
    "                                                                    for i in range(len(nEffs_list))]\n",
    "plt.grid()\n",
    "plt.legend()\n",
    "\n",
    "plt.xlabel(r'$k \\ [h/\\mathrm{Mpc}]$')\n",
    "plt.ylabel(r'$N_{eff}(k)$')"
   ]
  },
  {
   "cell_type": "code",
   "execution_count": null,
   "id": "99686ab4",
   "metadata": {},
   "outputs": [],
   "source": [
    "k_magsCAMB = k_mags"
   ]
  },
  {
   "cell_type": "code",
   "execution_count": null,
   "id": "05548fb3",
   "metadata": {},
   "outputs": [],
   "source": [
    "#k_mags = [TIMxEu[i].k_mags for i in range(len(TIMxEu))]\n",
    "windows = [TIMxEu[i].setup_transfer_function() for i in range(len(TIMxEu))]\n",
    "k_props = [TIMxEu[i].k_props() for i in range(len(TIMxEu))]\n",
    "window_avgs = transferAves_list #just renaming to match old plotting code.\n"
   ]
  },
  {
   "cell_type": "code",
   "execution_count": null,
   "id": "5a177e8a",
   "metadata": {},
   "outputs": [],
   "source": [
    "[np.nonzero(k_mag.value - k_magCAMB.value) for k_mag, k_magCAMB in zip(k_mags, k_magsCAMB)] # Find indices where k_mag differs from k_magCAMB\n",
    "#Should be empty arrays if k_mag and k_magCAMB are indeed identical."
   ]
  },
  {
   "cell_type": "code",
   "execution_count": null,
   "id": "4b7aa0c3",
   "metadata": {},
   "outputs": [],
   "source": [
    "k_props = [TIMxEu[i].k_props() for i in range(len(TIMxEu))]\n",
    "\n",
    "fig, (scatter, component, ave) = plt.subplots(1,3, figsize = (12,3), dpi = 200)#, sharex = True)\n",
    "\n",
    "for i in range(len(k_mags)):\n",
    "    scatter.semilogx(k_mags[i].flatten(), windows[i].flatten(), marker='.', \\\n",
    "    linestyle='None', label = f\" {VanillaTIM[i].zBin.zFront:.2f} < z < {VanillaTIM[i].zBin.zBack:.2f}\", markersize=.6, color = colors[i], alpha = .5)\n",
    "scatter.grid()\n",
    "\n",
    "for i in range(len(Pms)):\n",
    "    ave.semilogx(Pms[i][0], window_avgs[i], label = f\" {VanillaTIM[i].zBin.zFront:.2f} < z < {VanillaTIM[i].zBin.zBack:.2f}\", marker='.', \n",
    "             color = colors[i], linestyle = linestyles[i] )\n",
    "    \n",
    "ave.grid()\n",
    "ave.legend()\n",
    "    \n",
    "# making a plot for bin1\n",
    "component.semilogx(k_mags[0].flatten(), (k_props[0][0] ** 2 + k_props[0][1] ** 2).flatten(), marker='x',\n",
    "               linestyle='None', markersize=.6, alpha = 0.5, label = r'$\\hat{d}_\\perp$', color = 'green')\n",
    "component.semilogx(k_mags[0].flatten(), k_props[0][2].flatten(), marker='.', linestyle='None', \n",
    "               markersize=1, label = r'$\\hat{d}_{\\parallel} $', color = 'black')\n",
    "component.grid()\n",
    "compLeg = component.legend(fontsize = 15, markerscale = 10)\n",
    "for lh in compLeg.legend_handles:\n",
    "    lh.set_alpha(1)\n",
    "\n",
    "scatter.set_xlabel(r\"k [$h Mpc^{-1}]$\", size=10)\n",
    "component.set_xlabel(r\"k [$h Mpc^{-1}]$\", size=10)\n",
    "ave.set_xlabel(r\"k [$h Mpc^{-1}]$\", size=10)\n",
    "\n",
    "component.set_ylabel(r'$ \\vec{k} \\cdot \\hat{d}_{i}$ / $|k|$', fontsize = 15)\n",
    "scatter.set_ylabel(r'$W_k$', fontsize = 15)\n",
    "ave.set_ylabel('Bin Averaged W(k)', fontsize = 15)\n",
    "fig.subplots_adjust(hspace=0, wspace=0.28)"
   ]
  },
  {
   "cell_type": "code",
   "execution_count": null,
   "id": "75be8759",
   "metadata": {},
   "outputs": [],
   "source": [
    "bCII = bGal = 1.7\n",
    "shotCIIs = [1.2e9,2.2e9,3e9,3e9]\n",
    "fillFactor = 0.897\n",
    "\n",
    "PxGTuples = [xBin.xCorr(PmTuple, bCII, bGal, shots, fillFactor, returnFull=True) \n",
    "    for xBin, PmTuple, shots in zip(TIMxEu, Pms, shotCIIs)] \n",
    "        #could easily add z dependence on the biases"
   ]
  },
  {
   "cell_type": "code",
   "execution_count": null,
   "id": "7e606043",
   "metadata": {},
   "outputs": [],
   "source": [
    "#Assigning variables from PxGTuples to match my old plotting code for ease.\n",
    "\n",
    "PxGs, VARx  = [tup[0] for tup in PxGTuples], [tup[1] for tup in PxGTuples]\n",
    "x_shots, Plls = [tup[2] for tup in PxGTuples], [tup[3] for tup in PxGTuples]\n",
    "NTIMs, ICiis = [tup[4] for tup in PxGTuples], [tup[5] for tup in PxGTuples]\n",
    "nEffs = [tup[6] for tup in PxGTuples]\n",
    "\n",
    "SNR_PxG = [PxG / np.sqrt(VARs)  for PxG, VARs in zip(PxGs, VARx)]\n",
    "\n",
    "#sum the SNRs in each bin in quadrature so that we can report a \"Total SNR per redshift bin\"\n",
    "quad_SNRs = [np.sqrt(np.sum(SNRs[~np.isnan(SNRs)]**2)) for SNRs in SNR_PxG]\n",
    "\n",
    "#CAMB outputs lists of different ks for each bin so we can't sum them 'apples to apples.'\n",
    "#So, we'll interpolate Cross powers, SNRs and noise values at matching ks across all bins.\n",
    "aligned_PxGs, aligned_SNRs, aligned_x_noises = ut.SNR_interp_multi(Pms, PxGs, VARx, 3)"
   ]
  },
  {
   "cell_type": "code",
   "execution_count": null,
   "id": "3249122f",
   "metadata": {},
   "outputs": [],
   "source": [
    "#[plt.loglog(ks, nEff) for (ks,_), nEff in zip(Pms, nEffs)]\n",
    "\n",
    "plt.figure(dpi = 200, figsize = (8,3))\n",
    "for i,((ks,_), nums, col) in enumerate(zip(Pms,nEffs, colors)):\n",
    "    plt.loglog(ks,nums, color = col, linestyle = linestyles[i], marker = 'x',\n",
    "               label = i)\n",
    "\n",
    "plt.ylim(0, 1e6)\n",
    "plt.xlabel(r\"k [$h Mpc^{-1}]$\", size=10)\n",
    "plt.ylabel(r'$N_{Eff}$')\n",
    "\n",
    "plt.grid()\n",
    "plt.legend()"
   ]
  },
  {
   "cell_type": "code",
   "execution_count": null,
   "id": "2ebb2a87",
   "metadata": {},
   "outputs": [],
   "source": [
    "[plt.loglog(ks, Var) for (ks,_), Var in zip(Pms, VARx)]\n",
    "plt.grid()\n",
    "plt.xlabel(r'$k \\ [h/\\mathrm{Mpc}]$')\n",
    "plt.ylabel(r'$Var(P_{x}) \\ [Units?]$')\n",
    "\n",
    "#plt.ylim(1e8, 2e16)"
   ]
  },
  {
   "cell_type": "code",
   "execution_count": null,
   "id": "98eeff41",
   "metadata": {},
   "outputs": [],
   "source": [
    "# Generate the \"Power Rangers\" plot.\n",
    "\n",
    "fig, (power, SNR) = plt.subplots(2, 4, sharex=True, sharey = 'row', gridspec_kw={'height_ratios': [4,3]}, \n",
    "                                 figsize=(8, 3.3), dpi = 200)\n",
    "\n",
    "#plot Cross power as a function of k for each z bin, as well as SNR(k).\n",
    "for i, PxG in enumerate(PxGs):\n",
    "    power[i].loglog(Pms[i][0], PxG - x_shots[i].value, color = colors[i], linestyle = '--', alpha = .7)\n",
    "    power[i].loglog(Pms[i][0], PxG, color = colors[i], linestyle = '-', alpha = .7)\n",
    "    power[i].axhline(x_shots[i].value, color = colors[i], linestyle = ':', alpha = .5)\n",
    "    power[i].fill_between(Pms[i][0], PxG + np.sqrt(VARx[i]),\n",
    "                   PxG - np.sqrt(VARx[i]), color = colors[i], alpha = .4)\n",
    "    #power[i].set_title('Bin'+str(i+1))\n",
    "    power[i].set_title(f\" {VanillaTIM[i].zBin.zFront:.2f} < z < {VanillaTIM[i].zBin.zBack:.2f}\")\n",
    "\n",
    "    SNR[i].loglog(Pms[i][0], SNR_PxG[i], color = colors[i], marker = 'x', \n",
    "                label = r'$\\sqrt{\\Sigma_{SNR^2}}$: ' + str(np.around(quad_SNRs[i],2)))\n",
    "    SNR[i].axhline(1, color = 'grey', ls = \":\", alpha = .7)\n",
    "    power[i].grid()\n",
    "    SNR[i].grid()\n",
    "    SNR[i].legend(fontsize = 7)\n",
    "    #SNR[i].set_yticks(np.arange(0, 26, 4.0))\n",
    "    leg = SNR[i].legend(prop={'size': 10}, handlelength=0, handletextpad=0, fancybox=True, loc = 'upper left')\n",
    "    for item in leg.legendHandles:\n",
    "        item.set_visible(False)\n",
    "\n",
    "power[0].set_ylabel(r\"$P_\\times$ [Jy $sr^{-1}$ $Mpc^3 h^{-3}]$\", size = 8)\n",
    "power[0].set_ylim(7e4,1e8)\n",
    "\n",
    "SNR[0].set_ylabel(r\"SNR\", size = 15)\n",
    "\n",
    "fig.text(0.5, 0.001, r\"k [$h Mpc^{-1}]$\", size=15, ha='center')\n",
    "\n",
    "fig.subplots_adjust(hspace=0, wspace=0)\n",
    "\n",
    "plt.rcParams.update({'font.size': 10})\n",
    "plt.rcParams.update({'xtick.direction':'in'})\n",
    "plt.rcParams.update({'ytick.direction':'in'})\n",
    "plt.rcParams.update({'xtick.top':True})\n",
    "plt.rcParams.update({'ytick.right':True})\n",
    "plt.rcParams.update({'legend.frameon':False})\n",
    "plt.rcParams.update({'lines.dashed_pattern':[5,3]})\n",
    "\n",
    "plt.show()\n",
    "plt.close()"
   ]
  },
  {
   "cell_type": "markdown",
   "id": "0d32a7cc",
   "metadata": {},
   "source": []
  },
  {
   "cell_type": "code",
   "execution_count": null,
   "id": "d25b5484",
   "metadata": {},
   "outputs": [],
   "source": []
  },
  {
   "cell_type": "code",
   "execution_count": null,
   "id": "e2127f26",
   "metadata": {},
   "outputs": [],
   "source": [
    "import props_TIM2 as pTIM2\n",
    "import props_SpaceTIM as pTIMS\n",
    "\n",
    "reload(pTIM2)\n",
    "reload(pTIMS)\n",
    "\n",
    "TIM2 = pTIM2.subSurveys\n",
    "TIM2xEu = [ut.LIMxGAL(TIM2Bin, EuBin, window = \"Padmanabhan2023\") for TIM2Bin, EuBin in zip(TIM2, EuMinimal)]\n",
    "\n",
    "TIMSp = pTIMS.subSurveys\n",
    "TIMSpxEu = [ut.LIMxGAL(TIMSpBin, EuBin, window = \"Padmanabhan2023\") for TIMSpBin, EuBin in zip(TIMSp, EuMinimal)]\n",
    "\n",
    "\n",
    "k_mags2, num_kbins2 = [TIMBin.setup_k_modes()[0] for TIMBin in TIM2xEu], [TIMBin.setup_k_modes()[1] for TIMBin in TIM2xEu]\n",
    "k_maxs2 = [np.max(k_mag.value) for k_mag in k_mags2]\n",
    "k_mins2 = [np.min(k_mag[k_mag != 0].value) for k_mag in k_mags2]\n",
    "zShifts2 = [TIMBin.LIM.zBin.zCenter.value for TIMBin in TIM2xEu]\n",
    "\n",
    "k_magsSp, num_kbinsSp = [TIMBin.setup_k_modes()[0] for TIMBin in TIMSpxEu], [TIMBin.setup_k_modes()[1] for TIMBin in TIMSpxEu]\n",
    "k_maxsSp = [np.max(k_mag.value) for k_mag in k_magsSp]\n",
    "k_minsSp = [np.min(k_mag[k_mag != 0].value) for k_mag in k_magsSp]\n",
    "zShiftsSp = [TIMBin.LIM.zBin.zCenter.value for TIMBin in TIMSpxEu]\n",
    "\n",
    "Pms2 = ut.CAMB_Pm_multi(k_mags2, k_maxs2, k_mins2, num_kbins2, zShifts2)\n",
    "PmsSp = ut.CAMB_Pm_multi(k_magsSp, k_maxsSp, k_minsSp, num_kbinsSp, zShiftsSp)\n",
    "\n"
   ]
  },
  {
   "cell_type": "code",
   "execution_count": null,
   "id": "11a04ed2",
   "metadata": {},
   "outputs": [],
   "source": [
    "kbin_edges_list2, TIM2Numks, transferAves_list2 = ut.nEffs_multi(TIM2xEu, Pms2)\n",
    "kbin_edges_listSp, spaceNumks, transferAves_listSp = ut.nEffs_multi(TIMSpxEu, PmsSp)\n",
    "\n",
    "windows2 = [TIM2xEu[i].setup_transfer_function() for i in range(len(TIM2xEu))]\n",
    "window_avgs2 = transferAves_list2 #just renaming to match old plotting code.\n",
    "\n",
    "windowsSp = [TIMSpxEu[i].setup_transfer_function() for i in range(len(TIMSpxEu))]\n",
    "window_avgsSp = transferAves_listSp #just renaming to match old plotting code"
   ]
  },
  {
   "cell_type": "code",
   "execution_count": null,
   "id": "c5f4bad5",
   "metadata": {},
   "outputs": [],
   "source": [
    "PxGTuples2 = [xBin.xCorr(PmTuple, bCII, bGal, shots, fillFactor, returnFull=True) \n",
    "    for xBin, PmTuple, shots in zip(TIM2xEu, Pms2, shotCIIs)] \n",
    "\n",
    "PxGs2, VARx2  = [tup[0] for tup in PxGTuples2], [tup[1] for tup in PxGTuples2]\n",
    "x_shots2, Plls2 = [tup[2] for tup in PxGTuples2], [tup[3] for tup in PxGTuples2]\n",
    "NTIMs2, ICiis2 = [tup[4] for tup in PxGTuples2], [tup[5] for tup in PxGTuples2]\n",
    "SNR_PxG2 = [PxG / np.sqrt(VARs)  for PxG, VARs in zip(PxGs2, VARx2)]\n",
    "\n",
    "\n",
    "PxGTuplesSp = [xBin.xCorr(PmTuple, bCII, bGal, shots, fillFactor, returnFull=True) \n",
    "    for xBin, PmTuple, shots in zip(TIMSpxEu, PmsSp, shotCIIs)] \n",
    "\n",
    "PxGsSp, VARxSp  = [tup[0] for tup in PxGTuplesSp], [tup[1] for tup in PxGTuplesSp]\n",
    "x_shotsSp, PllsSp = [tup[2] for tup in PxGTuplesSp], [tup[3] for tup in PxGTuplesSp]\n",
    "NTIMsSp, ICiisSp = [tup[4] for tup in PxGTuplesSp], [tup[5] for tup in PxGTuplesSp]\n",
    "SNR_PxGSp = [PxG / np.sqrt(VARs)  for PxG, VARs in zip(PxGsSp, VARxSp)]"
   ]
  },
  {
   "cell_type": "code",
   "execution_count": null,
   "id": "8731f1f9",
   "metadata": {},
   "outputs": [],
   "source": [
    "ICII_Vars = [(bCII*bGal*Ps)**2/VARs for (_,Ps), VARs in zip(Pms, VARx)] # Calculate the ICII Variances\n",
    "ICIISigsTot = np.asarray( [np.sqrt(1/np.sum(IVar)) for IVar in ICII_Vars] ) # Calculate the ICII Signal-to-Noise Ratios\n",
    "\n",
    "ICII_Vars2 =  [(bCII*bGal*Ps)**2/VARs for (_,Ps), VARs in zip(Pms2, VARx2)] \n",
    "TIM2Sig = np.asarray( [np.sqrt(1/np.sum(IVar)) for IVar in ICII_Vars2] )\n",
    "\n",
    "ICII_VarsSp = [(bCII*bGal*Ps)**2/VARs for (_,Ps), VARs in zip(PmsSp, VARxSp)] \n",
    "spaceSig = np.asarray( [np.sqrt(1/np.sum(IVar)) for IVar in ICII_VarsSp] )"
   ]
  },
  {
   "cell_type": "code",
   "execution_count": null,
   "id": "f25a6a57",
   "metadata": {},
   "outputs": [],
   "source": [
    "ICIISigsTot"
   ]
  },
  {
   "cell_type": "code",
   "execution_count": null,
   "id": "020a9482",
   "metadata": {},
   "outputs": [],
   "source": [
    "def modelPx(model_params):\n",
    "    modelP = model_params[:,7]\n",
    "    modelShot = model_params[:,8]\n",
    "    return [xPow*Pm + shot for xPow, (_,Pm), shot in zip(modelP, Pms, modelShot)]\n",
    "def modelICII(model_params):\n",
    "    return model_params[:,0], model_params[:,1]\n",
    "preface = './model_Params_from_simim/juzz_data_model_lcii_'\n",
    "ICIIPreface = './model_Params_from_simim/juzz_icii_history_model_lcii_'\n",
    "\n",
    "\n",
    "pessMax_params = modelPx(np.loadtxt(preface + 'sighigh.npy', delimiter=','))\n",
    "pessMin_params = modelPx(np.loadtxt(preface + 'sfrumint.npy', delimiter=','))\n",
    "optiMax_params = modelPx(np.loadtxt(preface + 'p19.npy', delimiter=','))\n",
    "optiMin_params = modelPx(np.loadtxt(preface + 'h17um.npy', delimiter=','))\n",
    "g12 = modelPx(np.loadtxt(preface + 'g12.npy', delimiter=','))\n",
    "p19 = modelPx(np.loadtxt(preface + 'p19.npy', delimiter=','))\n",
    "Y22 = modelPx(np.loadtxt(preface + 'Y22.npy', delimiter=','))\n",
    "\n",
    "pessMax_ICII = modelICII(np.loadtxt(ICIIPreface + 'sighigh.csv', delimiter=','))\n",
    "pessMin_ICII = modelICII(np.loadtxt(ICIIPreface + 'sfrumint.csv', delimiter=','))\n",
    "optiMax_ICII = modelICII(np.loadtxt(ICIIPreface + 'p19.csv', delimiter=','))\n",
    "optiMin_ICII = modelICII(np.loadtxt(ICIIPreface + 'h17um.csv', delimiter=','))\n",
    "g12_ICII = modelICII(np.loadtxt(ICIIPreface + 'g12.csv', delimiter=','))\n",
    "p19_ICII = modelICII(np.loadtxt(ICIIPreface + 'p19.csv', delimiter=','))\n",
    "Y22_ICII = modelICII(np.loadtxt(ICIIPreface + 'Y22.csv', delimiter=','))\n",
    "\n",
    "simimFiducial = modelPx(np.loadtxt(preface[:-1]+'.npy', delimiter=','))\n",
    "simimICII = modelICII(np.loadtxt(ICIIPreface[:-1]+'.csv', delimiter=','))"
   ]
  },
  {
   "cell_type": "code",
   "execution_count": null,
   "id": "4e5ea173",
   "metadata": {},
   "outputs": [],
   "source": [
    "first = True\n",
    "\n",
    "for modelFile in os.listdir('./model_Params_from_simim'):\n",
    "    if 'icii_history' in modelFile:\n",
    "        if 'g12' in modelFile: continue\n",
    "        model = np.loadtxt('./model_Params_from_simim/'+modelFile, delimiter=',')\n",
    "        if first:\n",
    "            modelStack = model[:,1]\n",
    "            first = False\n",
    "        else: modelStack = np.vstack((modelStack, model[:, 1]))\n",
    "            \n",
    "IciiModelMin = [modelStack[:,i][~np.isnan(modelStack[:,i])].min() for i in np.arange(len(modelStack[0,:]))]\n",
    "IciiModelMax = [modelStack[:,i][~np.isnan(modelStack[:,i])].max() for i in np.arange(len(modelStack[0,:]))]"
   ]
  },
  {
   "cell_type": "code",
   "execution_count": null,
   "id": "feb8f16d",
   "metadata": {},
   "outputs": [],
   "source": [
    "fig, (plots, kplots) = plt.subplots(2,4, figsize = (12, 6), dpi = 200, sharey = 'row', sharex = True,\n",
    "                                    gridspec_kw={'height_ratios': [4,2]})\n",
    "\n",
    "CB_color_cycle = ['#377eb8', '#ff7f00', '#4daf4a',\n",
    "                  '#f781bf', '#a65628', '#984ea3',\n",
    "                  '#999999', '#e41a1c', '#dede00']\n",
    "\n",
    "TIMcolor = CB_color_cycle[0]\n",
    "TIM2color = CB_color_cycle[1]\n",
    "TIMScolor = CB_color_cycle[2]\n",
    "\n",
    "    \n",
    "for i in np.arange(0,4):\n",
    "    \n",
    "    plots[i].fill_between(Pms[i][0], pessMax_params[i], pessMin_params[i], color = 'grey', alpha = 0.3, hatch = '///',\n",
    "                          label = 'SFR Traced')\n",
    "    plots[i].fill_between(Pms[i][0], optiMax_params[i], optiMin_params[i], color = 'grey', alpha = 0.3, hatch = '\\\\\\\\',\n",
    "                          label = 'Optimistic')\n",
    "    \n",
    "    plots[i].loglog(Pms[i][0], Y22[i], label = 'Y22', ls = '--', lw = 2, color = 'grey', alpha = 0.7)\n",
    "    plots[i].loglog(Pms[i][0], p19[i], label = 'P19', ls = '-.', lw = 2, color = 'grey', alpha = 0.7)    \n",
    "    plots[i].loglog(Pms[i][0], simimFiducial[i], color = 'grey', label = 'SimIM', ls = ':', lw = 4, alpha = 0.7)\n",
    "    plots[i].loglog(Pms[i][0], PxGs[i], color = 'k', linestyle = '--', label = 'This Work')\n",
    "    \n",
    "    plots[i].loglog(PmsSp[i][0], np.sqrt(VARxSp[i]), marker = '^', label = 'TIM-S', ms = 4,\n",
    "                    color = TIMScolor, ls = '-.')\n",
    "    plots[i].loglog(Pms2[i][0], np.sqrt(VARx2[i]), marker = '^', label = 'TIM-2', ms = 4,\n",
    "                    color = TIM2color, ls = '-')\n",
    "\n",
    "    plots[i].grid()\n",
    "    kplots[i].grid()\n",
    "    \n",
    "    plots[i].set_title(f\" {VanillaTIM[i].zBin.zFront:.2f} < z < {VanillaTIM[i].zBin.zBack:.2f}\")\n",
    "    kplots[i].loglog(Pms[i][0], nEffs[i], color = TIMcolor, marker = '', ls = '--')\n",
    "    kplots[i].loglog(Pms2[i][0], TIM2Numks[i], color = TIM2color, marker = '', ms = 10, ls = '-')\n",
    "    kplots[i].loglog(PmsSp[i][0], spaceNumks[i], color = TIMScolor, marker = '', ls = '-.')\n",
    "    \n",
    "\n",
    "[plots[i].loglog(ks, np.sqrt(VARs), ls = '--', marker = '^', color = TIMcolor, label = 'TIM', ms = 4) \n",
    "         for i, (VARs, (ks,_)) in enumerate(zip(VARx, Pms))]\n",
    "\n",
    "\n",
    "fig.text(0.5, 0.04, r\"k [$h Mpc^{-1}]$\", size=15, ha='center')\n",
    "plots[0].set_ylabel(r\"$P_\\times$ [Jy $sr^{-1}$ $Mpc^3 h^{-3}]$\", size = 12)\n",
    "kplots[0].set_ylabel(r\"$n_{modes}$\", size = 15)\n",
    "plots[2].set_xlim(2e-2,1.1e1)\n",
    "plots[0].set_ylim(1e3,5e9)\n",
    "\n",
    "plots[3].legend(loc='center right', bbox_to_anchor=(0.95, 0.96), frameon = True, fontsize = 8.5,\n",
    "      ncol=9, fancybox=True, shadow=False, framealpha = 1, handlelength=2.5)\n",
    "#plots[0].legend(fontsize = 9)\n",
    "#fig.subplots_adjust(hspace=0., wspace=0.06)\n",
    "fig.subplots_adjust(hspace=0., wspace=0.00)"
   ]
  },
  {
   "cell_type": "code",
   "execution_count": null,
   "id": "7544dccc",
   "metadata": {},
   "outputs": [],
   "source": [
    "agesTIM = [cosmo.age(subSurv.LIM.zBin.zCenter).value for subSurv in TIMxEu]\n",
    "agesTIM2 = [cosmo.age(subSurv.LIM.zBin.zCenter).value for subSurv in TIM2xEu]\n",
    "agesTIMSp = [cosmo.age(subSurv.LIM.zBin.zCenter).value for subSurv in TIMSpxEu]\n",
    "\n",
    "\n",
    "binExtents = [((subSurv.LIM.zBin.zBack) - (subSurv.LIM.zBin.zFront))/2 for subSurv in TIMxEu]\n",
    "binExtents = np.asarray(binExtents)\n",
    "bin_zs = [subSurv.LIM.zBin.zCenter.value for subSurv in TIMxEu]\n"
   ]
  },
  {
   "cell_type": "code",
   "execution_count": null,
   "id": "4b4e6ff8",
   "metadata": {},
   "outputs": [],
   "source": [
    "#from E_lines import CII\n",
    "\n",
    "L0=8.3 * 10**6 * u.Lsun * u.yr / u.Msun\n",
    "SFu = (u.M_sun/u.yr/u.Mpc**3)\n",
    "\n",
    "def ItoSFRD(I):\n",
    "    if not hasattr(I, \"unit\"):\n",
    "        I = I * u.Jy\n",
    "    SFRD = 4*np.pi*cosmo.H0*l.CII.nu*I / (c.c*L0)\n",
    "    return SFRD.to(u.M_sun/u.yr/u.Mpc**3).value\n",
    "\n",
    "def SFRDtoI(SFRD):\n",
    "    if not hasattr(SFRD, \"unit\"):\n",
    "        SFRD = SFRD * SFu\n",
    "\n",
    "    I = c.c * L0 * SFRD / (4*np.pi*cosmo.H0*l.CII.nu)\n",
    "    return I.to(u.Jy).value\n",
    "\n",
    "ItoSFRD(10**5*u.Jy), SFRDtoI(1.6*u.M_sun/u.yr/u.Mpc**3)"
   ]
  },
  {
   "cell_type": "code",
   "execution_count": null,
   "id": "3554f2e2",
   "metadata": {},
   "outputs": [],
   "source": [
    "zgrid = np.linspace(0,30,3001)\n",
    "agegrid = cosmo.age(zgrid).value\n",
    "def transform(z):\n",
    "    return np.interp(z, zgrid, agegrid)\n",
    "def itransform(age):\n",
    "    return np.interp(age, agegrid[::-1], zgrid[::-1])\n",
    "\n",
    "def setup_history(ax,zlim=[5,0],zticks=[0,1,2,5],zticklabels=None,timeticks=np.array([1,3,5,7,9,11,13]),timeticklabels=None):\n",
    "    if zticklabels is None:\n",
    "        zticklabels = zticks\n",
    "    if timeticklabels is None:\n",
    "        timeticklabels = timeticks\n",
    "    ax.set_xscale('function',functions=(transform,itransform))\n",
    "    ax.set(xlim=zlim, xlabel='Age of Universe [Gyr]', xticks=itransform(timeticks), xticklabels=timeticklabels)\n",
    "    ax.set(yscale='log')\n",
    "    \n",
    "    ax2 = ax.twiny()\n",
    "    ax2.set_xscale('function',functions=(transform,itransform))\n",
    "    ax2.set(xlim=zlim,xlabel='Redshift',xticks=zticks,xticklabels=zticklabels)\n",
    "\n",
    "    return ax, ax2"
   ]
  },
  {
   "cell_type": "code",
   "execution_count": null,
   "id": "f15cfe74",
   "metadata": {},
   "outputs": [],
   "source": [
    "\n",
    "fig, ax = plt.subplots(dpi = 200, figsize = [8,4])\n",
    "\n",
    "ax.semilogy(simimICII[0], simimICII[1], color = 'grey', label = 'SimIM', ls = ':', lw = 4)\n",
    "ax.semilogy(Y22_ICII[0], Y22_ICII[1], label = 'Y22', ls = '--', lw = 2, color = 'grey')\n",
    "ax.semilogy(p19_ICII[0], p19_ICII[1], label = 'P19', ls = '-.', lw = 2, color = 'grey')\n",
    "\n",
    "ax.fill_between(pessMax_ICII[0], IciiModelMax, IciiModelMin, color = 'grey', alpha = 0.3,\n",
    "                          label = 'Model Space')\n",
    "\n",
    "ax.errorbar(bin_zs, 3*ICIISigsTot, xerr=binExtents, yerr= ICIISigsTot, lolims=True, \n",
    "             label = 'TIM $3\\sigma$', color = TIMcolor, ls = '')\n",
    "ax.errorbar(bin_zs, 3*TIM2Sig, xerr=binExtents, yerr= TIM2Sig, lolims=True, \n",
    "             label = 'TIM2 $3\\sigma$', color = TIM2color, ls = '')\n",
    "ax.errorbar(bin_zs, 3*spaceSig, xerr=binExtents, yerr= spaceSig, lolims=True, \n",
    "             label = 'TIM-S $3\\sigma$', color = TIMScolor, ls = '')\n",
    "\n",
    "ax.set_xlabel(\"Age of the Universe (Gyr)\")\n",
    "ax.set_ylim(10, 2e5)\n",
    "ax.set_xlim(0,13)\n",
    "\n",
    "\n",
    "zticks = np.array([0,0.5,1.0,1.5,2.5,6])\n",
    "timeticks = np.array([0.0,5,10,cosmo.age(0).value])\n",
    "timeticklabels = ['0','5','10','{:.1f}'.format(cosmo.age(0).value)]\n",
    "ax, ax_time = setup_history(ax,zlim=(100,0),zticks=zticks,zticklabels=None,timeticks=timeticks,timeticklabels=timeticklabels)                   \n",
    "\n",
    "zList = np.linspace(0,13,100)\n",
    "SFRDList = ut.MD_sfrd(zList)\n",
    "IList = ut.I_Bracks25(zList, SFRDList, l.CII.nu)\n",
    "ax.semilogy(zList, IList, color = 'k', ls = '--', label = 'This Work')\n",
    "\n",
    "ax2 = ax.secondary_yaxis('right', functions=(ItoSFRD, SFRDtoI))\n",
    "ax2.set_ylabel(r'SFRD [$M_\\odot$ $Mpc^{-3}$ $yr^{-1}]$')\n",
    "\n",
    "\n",
    "ax.set_xlabel(\"Age of the Universe (Gyr)\")\n",
    "ax.set_ylabel(r\"<$I_{[CII]}$> (Jy $sr^{-1}$)\")\n",
    "#ax.legend(loc='center right', frameon = True, fontsize = 6,\n",
    "#      ncol=8, fancybox=True, shadow=False, bbox_to_anchor=(0.98, 0.95), handlelength=2.5)\n",
    "ax.legend(ncol = 2, fontsize = 8, handlelength=2.5,frameon = True, framealpha = 1)\n",
    "ax.grid()\n"
   ]
  },
  {
   "cell_type": "code",
   "execution_count": null,
   "id": "dee2a08c",
   "metadata": {},
   "outputs": [],
   "source": [
    "print(k_mags)"
   ]
  },
  {
   "cell_type": "code",
   "execution_count": null,
   "id": "152f81f3",
   "metadata": {},
   "outputs": [],
   "source": [
    "import gc\n",
    "import copy\n",
    "\n",
    "def SNR_Galcross(LIMSurv, GalSurv, area, bCII=1.7, bGal=1.7, shotCII=1.2e9, fillFactor=0.897):\n",
    "    #SNRs = []\n",
    "        # Create a copy instead of modifying in-place\n",
    "    LIMSurv_copy = copy.deepcopy(LIMSurv)\n",
    "    LIMSurv_copy.Az = np.sqrt(area)\n",
    "    LIMSurv_copy.El = np.sqrt(area)\n",
    "    xSurv = ut.LIMxGAL(LIMSurv_copy, GalSurv, window=\"Gaussian\")\n",
    "    \n",
    "    k_mags3, k_maxs3, k_mins3, num_kbins3, zShifts3 = ut.kSpecs_single(xSurv, returnVal='all')\n",
    "\n",
    "    k_maxs3 = k_maxs3.value\n",
    "    k_mins3 = k_mins3.value\n",
    "    zShifts3 = zShifts3.value\n",
    "\n",
    "    Pmz3 = ut.CAMB_Pm_single(k_mags3, k_maxs3, k_mins3, num_kbins3, [zShifts3])\n",
    "    Pm3 = (Pmz3[0], Pmz3[2])\n",
    "    PxG3, VAR3, xShot3 = xSurv.xCorr(Pm3, bCII, bGal, shotCII, fillFactor, returnFull=False)\n",
    "    SNR_PxG3 = PxG3 / np.sqrt(VAR3)\n",
    "    quad_SNR3 = np.sqrt(np.sum(SNR_PxG3[~np.isnan(SNR_PxG3)]**2))\n",
    "    return quad_SNR3"
   ]
  },
  {
   "cell_type": "code",
   "execution_count": null,
   "id": "8128e44a",
   "metadata": {},
   "outputs": [],
   "source": [
    "stop"
   ]
  },
  {
   "cell_type": "code",
   "execution_count": null,
   "id": "6b2b2f24",
   "metadata": {},
   "outputs": [],
   "source": [
    "import gc"
   ]
  },
  {
   "cell_type": "code",
   "execution_count": null,
   "id": "66d14b63",
   "metadata": {},
   "outputs": [],
   "source": [
    "areas = np.logspace(-1, 1, 6)\n",
    "SNRList2 = []\n",
    "for a in areas:\n",
    "    print(f\"Calculating SNR for area: {a} sq deg\")\n",
    "    SNR = SNR_Galcross(VanillaTIM[2], EuMinimal[2], a, shotCII=shotCIIs[2])\n",
    "    SNRList2.append(SNR)\n",
    "    gc.collect()"
   ]
  },
  {
   "cell_type": "code",
   "execution_count": null,
   "id": "95ba5186",
   "metadata": {},
   "outputs": [],
   "source": [
    "SNRList2"
   ]
  },
  {
   "cell_type": "code",
   "execution_count": null,
   "id": "7d129d99",
   "metadata": {},
   "outputs": [],
   "source": [
    "#areas, SNRs = SNRasArea_Galcross(VanillaTIM[2], EuMinimal[2], np.logspace(-1, 1, 10))"
   ]
  },
  {
   "cell_type": "code",
   "execution_count": null,
   "id": "62be5629",
   "metadata": {},
   "outputs": [],
   "source": [
    "plt.plot(areas, SNRs)"
   ]
  },
  {
   "cell_type": "code",
   "execution_count": null,
   "id": "b7c3aa8d",
   "metadata": {},
   "outputs": [],
   "source": [
    "SNRs"
   ]
  },
  {
   "cell_type": "code",
   "execution_count": null,
   "id": "cbe755d1",
   "metadata": {},
   "outputs": [],
   "source": []
  }
 ],
 "metadata": {
  "kernelspec": {
   "display_name": "simim",
   "language": "python",
   "name": "python3"
  },
  "language_info": {
   "codemirror_mode": {
    "name": "ipython",
    "version": 3
   },
   "file_extension": ".py",
   "mimetype": "text/x-python",
   "name": "python",
   "nbconvert_exporter": "python",
   "pygments_lexer": "ipython3",
   "version": "3.9.18"
  }
 },
 "nbformat": 4,
 "nbformat_minor": 5
}
